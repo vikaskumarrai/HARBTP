{
  "nbformat": 4,
  "nbformat_minor": 0,
  "metadata": {
    "colab": {
      "provenance": [],
      "toc_visible": true,
      "authorship_tag": "ABX9TyNEzqlSVctuvCegtE0MM4t7",
      "include_colab_link": true
    },
    "kernelspec": {
      "name": "python3",
      "display_name": "Python 3"
    },
    "language_info": {
      "name": "python"
    }
  },
  "cells": [
    {
      "cell_type": "markdown",
      "metadata": {
        "id": "view-in-github",
        "colab_type": "text"
      },
      "source": [
        "<a href=\"https://colab.research.google.com/github/vikaskumarrai/HARBTP/blob/main/mybtp.ipynb\" target=\"_parent\"><img src=\"https://colab.research.google.com/assets/colab-badge.svg\" alt=\"Open In Colab\"/></a>"
      ]
    },
    {
      "cell_type": "markdown",
      "source": [
        "Myhumanactivityrecoginitionproject\n"
      ],
      "metadata": {
        "id": "sVbAXYTo40YA"
      }
    },
    {
      "cell_type": "markdown",
      "source": [
        "New project \n"
      ],
      "metadata": {
        "id": "IQxvhJil64iE"
      }
    },
    {
      "cell_type": "code",
      "source": [
        "import numpy as np\n",
        "import pandas as pd\n",
        "\n",
        "import matplotlib.pyplot as plt\n",
        "import matplotlib.cm as cm\n",
        "%matplotlib inline\n",
        "from sklearn.svm import SVC\n",
        "from sklearn.linear_model import LogisticRegression\n",
        "from sklearn.neighbors import KNeighborsClassifier\n",
        "from sklearn.ensemble import RandomForestClassifier\n",
        "from sklearn.ensemble import ExtraTreesClassifier\n",
        "from sklearn.ensemble import GradientBoostingClassifier\n",
        "from sklearn.metrics import accuracy_score"
      ],
      "metadata": {
        "id": "vSRGMvmrCoK_"
      },
      "execution_count": 17,
      "outputs": []
    },
    {
      "cell_type": "code",
      "source": [],
      "metadata": {
        "id": "gYDFLKrQKXsL"
      },
      "execution_count": null,
      "outputs": []
    },
    {
      "cell_type": "code",
      "source": [
        "training_data = pd.read_csv('/content/test.csv')\n",
        "testing_data = pd.read_csv('/content/train.csv')\n",
        "training_data.head()\n",
        "# Get X and y for training data\n",
        "X_train = training_data.drop(columns = ['Activity', 'subject'])\n",
        "y_train = training_data[\"Activity\"]\n",
        "\n",
        "# Get X and y for testing data\n",
        "y_test = testing_data['Activity']\n",
        "X_test = testing_data.drop(columns = ['Activity', 'subject'])\n",
        "accuracy_scores = np.zeros(4)\n",
        "\n",
        "# Support Vector Classifier\n",
        "clf = SVC().fit(X_train, y_train)\n",
        "prediction = clf.predict(X_test)\n",
        "accuracy_scores[0] = accuracy_score(y_test, prediction)*100\n",
        "print('Support Vector Classifier accuracy: {}%'.format(accuracy_scores[0]))\n",
        "\n",
        "# Logistic Regression\n",
        "clf = LogisticRegression().fit(X_train, y_train)\n",
        "prediction = clf.predict(X_test)\n",
        "accuracy_scores[1] = accuracy_score(y_test, prediction)*100\n",
        "print('Logistic Regression accuracy: {}%'.format(accuracy_scores[1]))\n",
        "\n",
        "# K Nearest Neighbors\n",
        "clf = KNeighborsClassifier().fit(X_train, y_train)\n",
        "prediction = clf.predict(X_test)\n",
        "accuracy_scores[2] = accuracy_score(y_test, prediction)*100\n",
        "print('K Nearest Neighbors Classifier accuracy: {}%'.format(accuracy_scores[2]))\n",
        "\n",
        "# Random Forest\n",
        "clf = RandomForestClassifier().fit(X_train, y_train)\n",
        "prediction = clf.predict(X_test)\n",
        "accuracy_scores[3] = accuracy_score(y_test, prediction)*100\n",
        "print('Random Forest Classifier accuracy: {}%'.format(accuracy_scores[3]))\n",
        "\n",
        "# Extra Tree classifier\n",
        "clf = ExtraTreesClassifier().fit(X_train, y_train)\n",
        "prediction = clf.predict(X_test)\n",
        "accuracy_scores[3] = accuracy_score(y_test, prediction)*100\n",
        "print('Extra Tree Classifier accuracy: {}%'.format(accuracy_scores[3]))\n",
        "# Gradient Boosting Classifier\n",
        "clf = GradientBoostingClassifier().fit(X_train, y_train)\n",
        "prediction = clf.predict(X_test)\n",
        "accuracy_scores[3] = accuracy_score(y_test, prediction)*100\n",
        "print('Gradient Boosting Classifier accuracy: {}%'.format(accuracy_scores[3]))\n",
        "plt.figure(figsize=(12,8))\n",
        "colors = cm.rainbow(np.linspace(0, 1, 4))\n",
        "labels = ['Support Vector Classifier', 'Logsitic Regression', 'K Nearest Neighbors', 'Random Forest']\n",
        "plt.bar(labels,\n",
        "        accuracy_scores,\n",
        "        color = colors)\n",
        "plt.xlabel('Classifiers',fontsize=18)\n",
        "plt.ylabel('Accuracy',fontsize=18)\n",
        "plt.title('Accuracy of various algorithms',fontsize=20)\n",
        "plt.xticks(rotation=45,fontsize=12)\n",
        "plt.yticks(fontsize=12)"
      ],
      "metadata": {
        "colab": {
          "base_uri": "https://localhost:8080/",
          "height": 903
        },
        "id": "gTLXbvsN_Ax7",
        "outputId": "87b2435f-6fee-4fb8-e88d-4b641a1d5fd7"
      },
      "execution_count": 18,
      "outputs": [
        {
          "output_type": "stream",
          "name": "stdout",
          "text": [
            "Support Vector Classifier accuracy: 91.56692056583242%\n"
          ]
        },
        {
          "output_type": "stream",
          "name": "stderr",
          "text": [
            "/usr/local/lib/python3.8/dist-packages/sklearn/linear_model/_logistic.py:814: ConvergenceWarning: lbfgs failed to converge (status=1):\n",
            "STOP: TOTAL NO. of ITERATIONS REACHED LIMIT.\n",
            "\n",
            "Increase the number of iterations (max_iter) or scale the data as shown in:\n",
            "    https://scikit-learn.org/stable/modules/preprocessing.html\n",
            "Please also refer to the documentation for alternative solver options:\n",
            "    https://scikit-learn.org/stable/modules/linear_model.html#logistic-regression\n",
            "  n_iter_i = _check_optimize_result(\n"
          ]
        },
        {
          "output_type": "stream",
          "name": "stdout",
          "text": [
            "Logistic Regression accuracy: 93.4031556039173%\n",
            "K Nearest Neighbors Classifier accuracy: 87.6088139281828%\n",
            "Random Forest Classifier accuracy: 91.39009793253537%\n",
            "Extra Tree Classifier accuracy: 90.4379760609358%\n",
            "Gradient Boosting Classifier accuracy: 91.44450489662677%\n"
          ]
        },
        {
          "output_type": "execute_result",
          "data": {
            "text/plain": [
              "(array([  0.,  20.,  40.,  60.,  80., 100.]),\n",
              " <a list of 6 Text major ticklabel objects>)"
            ]
          },
          "metadata": {},
          "execution_count": 18
        },
        {
          "output_type": "display_data",
          "data": {
            "text/plain": [
              "<Figure size 864x576 with 1 Axes>"
            ],
            "image/png": "[encoded data removed]"
          },
          "metadata": {
            "needs_background": "light"
          }
        }
      ]
    }
  ]
}